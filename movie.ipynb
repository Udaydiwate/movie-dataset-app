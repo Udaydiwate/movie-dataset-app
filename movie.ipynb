{
 "cells": [
  {
   "cell_type": "code",
   "execution_count": 3,
   "id": "b5d202fc-b2e8-4fe3-ad27-2b1baca52ea3",
   "metadata": {},
   "outputs": [
    {
     "name": "stdout",
     "output_type": "stream",
     "text": [
      "Accuracy: 0.86\n",
      "\n",
      "Classification Report:\n",
      "               precision    recall  f1-score   support\n",
      "\n",
      "           0       0.50      1.00      0.67         1\n",
      "           1       1.00      0.83      0.91         6\n",
      "\n",
      "    accuracy                           0.86         7\n",
      "   macro avg       0.75      0.92      0.79         7\n",
      "weighted avg       0.93      0.86      0.87         7\n",
      "\n",
      "Confusion Matrix:\n",
      " [[1 0]\n",
      " [1 5]]\n"
     ]
    },
    {
     "data": {
      "image/png": "[encoded data removed]",
      "text/plain": [
       "<Figure size 640x480 with 2 Axes>"
      ]
     },
     "metadata": {},
     "output_type": "display_data"
    }
   ],
   "source": [
    "# Step 1: Import libraries\n",
    "import pandas as pd\n",
    "import numpy as np\n",
    "import seaborn as sns\n",
    "import matplotlib.pyplot as plt\n",
    "\n",
    "from sklearn.model_selection import train_test_split\n",
    "from sklearn.linear_model import LogisticRegression\n",
    "from sklearn.metrics import accuracy_score, classification_report, confusion_matrix\n",
    "from sklearn.preprocessing import StandardScaler\n",
    "\n",
    "# Step 2: Load dataset\n",
    "df = pd.read_csv(\"C:\\\\Users\\\\Sujit\\\\Downloads\\\\movies app\\\\indian-movie-theatres.csv\")\n",
    "df = df.dropna()\n",
    "\n",
    "# Step 3: Create binary classification target\n",
    "df['Target'] = (df['average_ticket_price'] > 120).astype(int)\n",
    "\n",
    "# Step 4: Drop non-informative or highly correlated columns\n",
    "df = df.drop(['theatre_name', 'notes', 'source_of_information', 'calculated_ticket_prices'], axis=1)\n",
    "\n",
    "# Step 5: Encode categorical features\n",
    "df = pd.get_dummies(df, drop_first=True)\n",
    "\n",
    "# Step 6: Feature-target split\n",
    "X = df.drop(\"Target\", axis=1)\n",
    "y = df[\"Target\"]\n",
    "\n",
    "# Step 7: Scale features\n",
    "scaler = StandardScaler()\n",
    "X_scaled = scaler.fit_transform(X)\n",
    "\n",
    "# Step 8: Stratified split\n",
    "X_train, X_test, y_train, y_test = train_test_split(\n",
    "    X_scaled, y, test_size=0.25, random_state=42, stratify=y\n",
    ")\n",
    "\n",
    "# Step 9: Train logistic regression with lower C to reduce overfitting\n",
    "model = LogisticRegression(C=0.05, max_iter=100, solver=\"liblinear\")\n",
    "model.fit(X_train, y_train)\n",
    "\n",
    "# Step 10: Predictions\n",
    "y_pred = model.predict(X_test)\n",
    "acc = accuracy_score(y_test, y_pred)\n",
    "\n",
    "# Output\n",
    "print(f\"Accuracy: {acc:.2f}\")\n",
    "print(\"\\nClassification Report:\\n\", classification_report(y_test, y_pred))\n",
    "print(\"Confusion Matrix:\\n\", confusion_matrix(y_test, y_pred, labels=[0, 1]))\n",
    "\n",
    "# Step 11: Visualization\n",
    "sns.heatmap(confusion_matrix(y_test, y_pred, labels=[0, 1]), annot=True, fmt=\"d\", cmap=\"Blues\")\n",
    "plt.title(\"Confusion Matrix\")\n",
    "plt.xlabel(\"Predicted\")\n",
    "plt.ylabel(\"Actual\")\n",
    "plt.show()\n"
   ]
  },
  {
   "cell_type": "code",
   "execution_count": null,
   "id": "25311c2f-d92c-415f-a495-a4f4bff3c271",
   "metadata": {},
   "outputs": [],
   "source": []
  }
 ],
 "metadata": {
  "kernelspec": {
   "display_name": "Python [conda env:base] *",
   "language": "python",
   "name": "conda-base-py"
  },
  "language_info": {
   "codemirror_mode": {
    "name": "ipython",
    "version": 3
   },
   "file_extension": ".py",
   "mimetype": "text/x-python",
   "name": "python",
   "nbconvert_exporter": "python",
   "pygments_lexer": "ipython3",
   "version": "3.12.7"
  }
 },
 "nbformat": 4,
 "nbformat_minor": 5
}
